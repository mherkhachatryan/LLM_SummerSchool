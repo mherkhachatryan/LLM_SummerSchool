{
 "cells": [
  {
   "cell_type": "markdown",
   "metadata": {},
   "source": [
    "## Semantic Search Tutorial"
   ]
  },
  {
   "cell_type": "markdown",
   "metadata": {},
   "source": [
    "### BM25"
   ]
  },
  {
   "cell_type": "code",
   "execution_count": null,
   "metadata": {},
   "outputs": [],
   "source": [
    "!pip install faiss-gpu\n",
    "!pip install datasets evaluate transformers[sentencepiece]"
   ]
  },
  {
   "cell_type": "code",
   "execution_count": 1,
   "metadata": {},
   "outputs": [
    {
     "name": "stdout",
     "output_type": "stream",
     "text": [
      "==============================WARNING: DEPRECATED!==============================\n",
      "WARNING! This version of bitsandbytes is deprecated. Please switch to `pip install bitsandbytes` and the new repo: https://github.com/TimDettmers/bitsandbytes\n",
      "==============================WARNING: DEPRECATED!==============================\n"
     ]
    },
    {
     "name": "stderr",
     "output_type": "stream",
     "text": [
      "2024-07-06 13:54:54.670161: I tensorflow/core/util/port.cc:113] oneDNN custom operations are on. You may see slightly different numerical results due to floating-point round-off errors from different computation orders. To turn them off, set the environment variable `TF_ENABLE_ONEDNN_OPTS=0`.\n",
      "2024-07-06 13:54:54.693335: E external/local_xla/xla/stream_executor/cuda/cuda_dnn.cc:9261] Unable to register cuDNN factory: Attempting to register factory for plugin cuDNN when one has already been registered\n",
      "2024-07-06 13:54:54.693356: E external/local_xla/xla/stream_executor/cuda/cuda_fft.cc:607] Unable to register cuFFT factory: Attempting to register factory for plugin cuFFT when one has already been registered\n",
      "2024-07-06 13:54:54.693947: E external/local_xla/xla/stream_executor/cuda/cuda_blas.cc:1515] Unable to register cuBLAS factory: Attempting to register factory for plugin cuBLAS when one has already been registered\n",
      "2024-07-06 13:54:54.697889: I tensorflow/core/platform/cpu_feature_guard.cc:182] This TensorFlow binary is optimized to use available CPU instructions in performance-critical operations.\n",
      "To enable the following instructions: AVX2 AVX_VNNI FMA, in other operations, rebuild TensorFlow with the appropriate compiler flags.\n",
      "2024-07-06 13:54:55.310427: W tensorflow/compiler/tf2tensorrt/utils/py_utils.cc:38] TF-TRT Warning: Could not find TensorRT\n"
     ]
    }
   ],
   "source": [
    "import torch\n",
    "from torch import nn\n",
    "from torch.functional import tensordot\n",
    "from torch.nn import functional as F\n",
    "from torch.utils.data import DataLoader\n",
    "from torch.nn import CosineEmbeddingLoss\n",
    "from torch import Tensor\n",
    "\n",
    "from transformers import AutoModel\n",
    "from transformers import AutoTokenizer\n",
    "from transformers import DPRContextEncoder\n",
    "from typing import List, Dict\n",
    "\n",
    "import os\n",
    "from tqdm import tqdm\n",
    "import numpy as np\n",
    "import json\n",
    "import pandas as pd"
   ]
  },
  {
   "cell_type": "code",
   "execution_count": 2,
   "metadata": {},
   "outputs": [
    {
     "data": {
      "text/html": [
       "<div>\n",
       "<style scoped>\n",
       "    .dataframe tbody tr th:only-of-type {\n",
       "        vertical-align: middle;\n",
       "    }\n",
       "\n",
       "    .dataframe tbody tr th {\n",
       "        vertical-align: top;\n",
       "    }\n",
       "\n",
       "    .dataframe thead th {\n",
       "        text-align: right;\n",
       "    }\n",
       "</style>\n",
       "<table border=\"1\" class=\"dataframe\">\n",
       "  <thead>\n",
       "    <tr style=\"text-align: right;\">\n",
       "      <th></th>\n",
       "      <th>ID</th>\n",
       "      <th>Movie Name</th>\n",
       "      <th>Rating</th>\n",
       "      <th>Runtime</th>\n",
       "      <th>Genre</th>\n",
       "      <th>Metascore</th>\n",
       "      <th>Plot</th>\n",
       "      <th>Directors</th>\n",
       "      <th>Stars</th>\n",
       "      <th>Votes</th>\n",
       "      <th>Gross</th>\n",
       "      <th>Link</th>\n",
       "    </tr>\n",
       "  </thead>\n",
       "  <tbody>\n",
       "    <tr>\n",
       "      <th>0</th>\n",
       "      <td>1</td>\n",
       "      <td>The Shawshank Redemption</td>\n",
       "      <td>9.3</td>\n",
       "      <td>142 min</td>\n",
       "      <td>Drama</td>\n",
       "      <td>82.0</td>\n",
       "      <td>Over the course of several years, two convicts...</td>\n",
       "      <td>['Frank Darabont', 'Tim Robbins', 'Morgan Free...</td>\n",
       "      <td>['Tim Robbins', 'Morgan Freeman', 'Bob Gunton'...</td>\n",
       "      <td>2752419</td>\n",
       "      <td>28341469</td>\n",
       "      <td>https://www.imdb.com/title/tt0111161/</td>\n",
       "    </tr>\n",
       "    <tr>\n",
       "      <th>1</th>\n",
       "      <td>2</td>\n",
       "      <td>The Godfather</td>\n",
       "      <td>9.2</td>\n",
       "      <td>175 min</td>\n",
       "      <td>Crime, Drama</td>\n",
       "      <td>100.0</td>\n",
       "      <td>Don Vito Corleone, head of a mafia family, dec...</td>\n",
       "      <td>['Francis Ford Coppola', 'Marlon Brando', 'Al ...</td>\n",
       "      <td>['Marlon Brando', 'Al Pacino', 'James Caan', '...</td>\n",
       "      <td>1914751</td>\n",
       "      <td>134966411</td>\n",
       "      <td>https://www.imdb.com/title/tt0068646/</td>\n",
       "    </tr>\n",
       "    <tr>\n",
       "      <th>2</th>\n",
       "      <td>3</td>\n",
       "      <td>Ramayana: The Legend of Prince Rama</td>\n",
       "      <td>9.2</td>\n",
       "      <td>135 min</td>\n",
       "      <td>Animation, Action, Adventure</td>\n",
       "      <td>NaN</td>\n",
       "      <td>An anime adaptation of the Hindu epic the Rama...</td>\n",
       "      <td>['Ram Mohan', 'Yûgô Sakô', 'Koichi Saski', 'Ar...</td>\n",
       "      <td>['Yûgô Sakô', 'Koichi Saski', 'Arun Govil', 'N...</td>\n",
       "      <td>10108</td>\n",
       "      <td>10108</td>\n",
       "      <td>https://www.imdb.com/title/tt0259534/</td>\n",
       "    </tr>\n",
       "    <tr>\n",
       "      <th>3</th>\n",
       "      <td>4</td>\n",
       "      <td>The Chaos Class</td>\n",
       "      <td>9.2</td>\n",
       "      <td>87 min</td>\n",
       "      <td>Comedy, Drama</td>\n",
       "      <td>NaN</td>\n",
       "      <td>Lazy, uneducated students share a very close b...</td>\n",
       "      <td>['Ertem Egilmez', 'Kemal Sunal', 'Münir Özkul'...</td>\n",
       "      <td>['Kemal Sunal', 'Münir Özkul', 'Halit Akçatepe...</td>\n",
       "      <td>41785</td>\n",
       "      <td>41785</td>\n",
       "      <td>https://www.imdb.com/title/tt0252487/</td>\n",
       "    </tr>\n",
       "    <tr>\n",
       "      <th>4</th>\n",
       "      <td>5</td>\n",
       "      <td>Daman</td>\n",
       "      <td>9.1</td>\n",
       "      <td>121 min</td>\n",
       "      <td>Adventure, Drama</td>\n",
       "      <td>NaN</td>\n",
       "      <td>The film is set in 2015. Sid, is a young docto...</td>\n",
       "      <td>['Lenka Debiprasad', 'Vishal Mourya', 'Karan K...</td>\n",
       "      <td>['Vishal Mourya', 'Karan Kandhapan', 'Babushan...</td>\n",
       "      <td>13303</td>\n",
       "      <td>13303</td>\n",
       "      <td>https://www.imdb.com/title/tt17592606/</td>\n",
       "    </tr>\n",
       "  </tbody>\n",
       "</table>\n",
       "</div>"
      ],
      "text/plain": [
       "   ID                           Movie Name  Rating  Runtime  \\\n",
       "0   1             The Shawshank Redemption     9.3  142 min   \n",
       "1   2                        The Godfather     9.2  175 min   \n",
       "2   3  Ramayana: The Legend of Prince Rama     9.2  135 min   \n",
       "3   4                      The Chaos Class     9.2   87 min   \n",
       "4   5                                Daman     9.1  121 min   \n",
       "\n",
       "                          Genre  Metascore  \\\n",
       "0                         Drama       82.0   \n",
       "1                  Crime, Drama      100.0   \n",
       "2  Animation, Action, Adventure        NaN   \n",
       "3                 Comedy, Drama        NaN   \n",
       "4              Adventure, Drama        NaN   \n",
       "\n",
       "                                                Plot  \\\n",
       "0  Over the course of several years, two convicts...   \n",
       "1  Don Vito Corleone, head of a mafia family, dec...   \n",
       "2  An anime adaptation of the Hindu epic the Rama...   \n",
       "3  Lazy, uneducated students share a very close b...   \n",
       "4  The film is set in 2015. Sid, is a young docto...   \n",
       "\n",
       "                                           Directors  \\\n",
       "0  ['Frank Darabont', 'Tim Robbins', 'Morgan Free...   \n",
       "1  ['Francis Ford Coppola', 'Marlon Brando', 'Al ...   \n",
       "2  ['Ram Mohan', 'Yûgô Sakô', 'Koichi Saski', 'Ar...   \n",
       "3  ['Ertem Egilmez', 'Kemal Sunal', 'Münir Özkul'...   \n",
       "4  ['Lenka Debiprasad', 'Vishal Mourya', 'Karan K...   \n",
       "\n",
       "                                               Stars    Votes      Gross  \\\n",
       "0  ['Tim Robbins', 'Morgan Freeman', 'Bob Gunton'...  2752419   28341469   \n",
       "1  ['Marlon Brando', 'Al Pacino', 'James Caan', '...  1914751  134966411   \n",
       "2  ['Yûgô Sakô', 'Koichi Saski', 'Arun Govil', 'N...    10108      10108   \n",
       "3  ['Kemal Sunal', 'Münir Özkul', 'Halit Akçatepe...    41785      41785   \n",
       "4  ['Vishal Mourya', 'Karan Kandhapan', 'Babushan...    13303      13303   \n",
       "\n",
       "                                     Link  \n",
       "0   https://www.imdb.com/title/tt0111161/  \n",
       "1   https://www.imdb.com/title/tt0068646/  \n",
       "2   https://www.imdb.com/title/tt0259534/  \n",
       "3   https://www.imdb.com/title/tt0252487/  \n",
       "4  https://www.imdb.com/title/tt17592606/  "
      ]
     },
     "execution_count": 2,
     "metadata": {},
     "output_type": "execute_result"
    }
   ],
   "source": [
    "#load the data\n",
    "df = pd.read_csv(\"imdb_top_10k.csv\")\n",
    "# df = df[['Movie Name', 'Genre', 'Plot', 'Directors']]\n",
    "# df = df.dropna()\n",
    "df.head()"
   ]
  },
  {
   "cell_type": "code",
   "execution_count": 3,
   "metadata": {},
   "outputs": [
    {
     "name": "stdout",
     "output_type": "stream",
     "text": [
      "(9999, 12)\n"
     ]
    }
   ],
   "source": [
    "print(df.shape)"
   ]
  },
  {
   "cell_type": "code",
   "execution_count": 4,
   "metadata": {},
   "outputs": [],
   "source": [
    "def get_contexts(df: pd.DataFrame) -> List[Dict]:\n",
    "    contexts = []\n",
    "    for i, row in df.iterrows():\n",
    "        contexts.append({\n",
    "            'title': row['Movie Name'],\n",
    "            'text': row['Plot'],\n",
    "            'meta': {\n",
    "                'genre': row['Genre'],\n",
    "                'director': row['Directors'],\n",
    "                'votes': row['Votes'],\n",
    "                'rating': row['Rating'],\n",
    "                'metascore': row['Metascore'],\n",
    "            }\n",
    "        })\n",
    "    return contexts\n",
    "\n",
    "contexts = get_contexts(df)"
   ]
  },
  {
   "cell_type": "markdown",
   "metadata": {},
   "source": [
    "### Reference Implementation of BM25"
   ]
  },
  {
   "cell_type": "code",
   "execution_count": 5,
   "metadata": {},
   "outputs": [
    {
     "name": "stdout",
     "output_type": "stream",
     "text": [
      "[ 991 5220  855 6344 8178]\n",
      "Batman: Mask of the Phantasm Batman is wrongly implicated in a series of murders of mob bosses actually done by a new vigilante assassin.\n",
      "\n",
      "Batman: Gotham by Gaslight In an alternative Victorian Age Gotham City, Batman begins his war on crime while he investigates a new series of murders by Jack the Ripper.\n",
      "\n",
      "The Batman When a sadistic serial killer begins murdering key political figures in Gotham, Batman is forced to investigate the city's hidden corruption and question his family's involvement.\n",
      "\n",
      "Batman: The Killing Joke As Batman hunts for the escaped Joker, the Clown Prince of Crime attacks the Gordon family to prove a diabolical point mirroring his own fall into madness.\n",
      "\n",
      "Batman and Harley Quinn Batman and Nightwing are forced to team with the Joker's sometimes-girlfriend Harley Quinn to stop a global threat brought about by Poison Ivy and Jason Woodrue, the Floronic Man.\n",
      "\n"
     ]
    }
   ],
   "source": [
    "from rank_bm25 import BM25Okapi\n",
    "\n",
    "class BM25Search:\n",
    "    def __init__(self, documents: List[str]):\n",
    "        self.documents = documents\n",
    "        self.tokenized_documents = [document.split() for document in documents]\n",
    "        self.bm25 = BM25Okapi(self.tokenized_documents)\n",
    "    \n",
    "    def search(self, query: str, top_k: int = 5) -> List[int]:\n",
    "        tokenized_query = query.split()\n",
    "        doc_scores = self.bm25.get_scores(tokenized_query)\n",
    "        # print(doc_scores)\n",
    "        sorted_indices = np.argsort(doc_scores)[::-1]\n",
    "        return sorted_indices[:top_k]\n",
    "    \n",
    "bm25_search = BM25Search([context['text'] for context in contexts])\n",
    "query = \"Batman\"\n",
    "retrieved_indices = bm25_search.search(query)\n",
    "print(retrieved_indices)\n",
    "for i in retrieved_indices:\n",
    "    print(contexts[i]['title'], contexts[i]['text'])\n",
    "    print()"
   ]
  },
  {
   "cell_type": "markdown",
   "metadata": {},
   "source": [
    "You can use the retriever in your favorite package for RAG as well, i.e. LangChain, etc."
   ]
  },
  {
   "cell_type": "code",
   "execution_count": 6,
   "metadata": {},
   "outputs": [
    {
     "data": {
      "text/plain": [
       "[Document(page_content='Batman is wrongly implicated in a series of murders of mob bosses actually done by a new vigilante assassin.'),\n",
       " Document(page_content='In an alternative Victorian Age Gotham City, Batman begins his war on crime while he investigates a new series of murders by Jack the Ripper.'),\n",
       " Document(page_content=\"When a sadistic serial killer begins murdering key political figures in Gotham, Batman is forced to investigate the city's hidden corruption and question his family's involvement.\"),\n",
       " Document(page_content='As Batman hunts for the escaped Joker, the Clown Prince of Crime attacks the Gordon family to prove a diabolical point mirroring his own fall into madness.')]"
      ]
     },
     "execution_count": 6,
     "metadata": {},
     "output_type": "execute_result"
    }
   ],
   "source": [
    "from langchain_community.retrievers import BM25Retriever\n",
    "\n",
    "retriever = BM25Retriever.from_texts([context['text'] for context in contexts])\n",
    "retrieved_indices = retriever.invoke(query)\n",
    "retrieved_indices"
   ]
  },
  {
   "cell_type": "markdown",
   "metadata": {},
   "source": [
    "### BM25 from scratch"
   ]
  },
  {
   "cell_type": "code",
   "execution_count": 7,
   "metadata": {},
   "outputs": [
    {
     "name": "stdout",
     "output_type": "stream",
     "text": [
      "Batman: Mask of the Phantasm Batman is wrongly implicated in a series of murders of mob bosses actually done by a new vigilante assassin.\n",
      "\n",
      "Batman: Gotham by Gaslight In an alternative Victorian Age Gotham City, Batman begins his war on crime while he investigates a new series of murders by Jack the Ripper.\n",
      "\n",
      "The Batman When a sadistic serial killer begins murdering key political figures in Gotham, Batman is forced to investigate the city's hidden corruption and question his family's involvement.\n",
      "\n",
      "Batman: The Killing Joke As Batman hunts for the escaped Joker, the Clown Prince of Crime attacks the Gordon family to prove a diabolical point mirroring his own fall into madness.\n",
      "\n",
      "Batman v Superman: Dawn of Justice Fearing that the actions of Superman are left unchecked, Batman takes on the Man of Steel, while the world wrestles with what kind of a hero it really needs.\n",
      "\n"
     ]
    }
   ],
   "source": [
    "# def term_freq(term: str, document: str) -> int:\n",
    "#     #TODO implement this function\n",
    "#     ...\n",
    "\n",
    "# def inverse_doc_freq(term: str, documents: List[str]) -> float:\n",
    "#     #TODO implement this function\n",
    "#     ...\n",
    "\n",
    "def bm25(term: str, document: str, documents: List[str], k1: float = 1.5, b: float = 0.75) -> float:\n",
    "    #TODO implement this function\n",
    "    ...\n",
    "\n",
    "\n",
    "def bm25_similarity(query: str, document: str, documents: List[str]) -> float:\n",
    "    query_terms = query.split()\n",
    "    return sum(bm25(term, document, documents) for term in query_terms)\n",
    "\n",
    "def get_bm25_topk(query: str, documents: List[str], k: int = 5) -> List[int]:\n",
    "    scores = [bm25_similarity(query, document, documents) for document in documents]\n",
    "    return sorted(range(len(scores)), key=lambda i: scores[i], reverse=True)[:k]\n",
    "\n",
    "#test\n",
    "retrieved_indices = get_bm25_topk(query, [context['text'] for context in contexts])\n",
    "for i in retrieved_indices:\n",
    "    print(contexts[i]['title'], contexts[i]['text'])\n",
    "    print()"
   ]
  },
  {
   "cell_type": "markdown",
   "metadata": {},
   "source": [
    "### Neural Retrieval"
   ]
  },
  {
   "cell_type": "markdown",
   "metadata": {},
   "source": [
    "Lets make it a huggingface dataset out of pure convenience"
   ]
  },
  {
   "cell_type": "code",
   "execution_count": 7,
   "metadata": {},
   "outputs": [
    {
     "data": {
      "text/plain": [
       "Dataset({\n",
       "    features: ['ID', 'Movie Name', 'Rating', 'Runtime', 'Genre', 'Metascore', 'Plot', 'Directors', 'Stars', 'Votes', 'Gross', 'Link'],\n",
       "    num_rows: 9999\n",
       "})"
      ]
     },
     "execution_count": 7,
     "metadata": {},
     "output_type": "execute_result"
    }
   ],
   "source": [
    "from datasets import Dataset\n",
    "\n",
    "movie_dataset = Dataset.from_pandas(df)\n",
    "movie_dataset"
   ]
  },
  {
   "cell_type": "code",
   "execution_count": 8,
   "metadata": {},
   "outputs": [
    {
     "data": {
      "application/vnd.jupyter.widget-view+json": {
       "model_id": "45eb36dd73134fb3978ed790b98f1fb1",
       "version_major": 2,
       "version_minor": 0
      },
      "text/plain": [
       "Map:   0%|          | 0/9999 [00:00<?, ? examples/s]"
      ]
     },
     "metadata": {},
     "output_type": "display_data"
    }
   ],
   "source": [
    "def concatenate_text(data):\n",
    "    \n",
    "    return {\"text\": data['Movie Name'] + \" \\n\" + data['Genre'] + \" \\n\" + data['Plot'] + \" \\n\" + data['Directors'] + \" \\n\" + str(data['Votes']) + \" \\n\" + str(data['Rating']) + \" \\n\" + str(data['Metascore'])}\n",
    "\n",
    "movie_dataset = movie_dataset.map(concatenate_text)"
   ]
  },
  {
   "cell_type": "code",
   "execution_count": 9,
   "metadata": {},
   "outputs": [
    {
     "data": {
      "text/plain": [
       "{'ID': 2,\n",
       " 'Movie Name': 'The Godfather',\n",
       " 'Rating': 9.2,\n",
       " 'Runtime': '175 min',\n",
       " 'Genre': 'Crime, Drama',\n",
       " 'Metascore': 100.0,\n",
       " 'Plot': 'Don Vito Corleone, head of a mafia family, decides to hand over his empire to his youngest son Michael. However, his decision unintentionally puts the lives of his loved ones in grave danger.',\n",
       " 'Directors': \"['Francis Ford Coppola', 'Marlon Brando', 'Al Pacino', 'James Caan', 'Diane Keaton']\",\n",
       " 'Stars': \"['Marlon Brando', 'Al Pacino', 'James Caan', 'Diane Keaton']\",\n",
       " 'Votes': 1914751,\n",
       " 'Gross': 134966411,\n",
       " 'Link': 'https://www.imdb.com/title/tt0068646/',\n",
       " 'text': \"The Godfather \\nCrime, Drama \\nDon Vito Corleone, head of a mafia family, decides to hand over his empire to his youngest son Michael. However, his decision unintentionally puts the lives of his loved ones in grave danger. \\n['Francis Ford Coppola', 'Marlon Brando', 'Al Pacino', 'James Caan', 'Diane Keaton'] \\n1914751 \\n9.2 \\n100.0\"}"
      ]
     },
     "execution_count": 9,
     "metadata": {},
     "output_type": "execute_result"
    }
   ],
   "source": [
    "movie_dataset[1]"
   ]
  },
  {
   "cell_type": "code",
   "execution_count": 10,
   "metadata": {},
   "outputs": [],
   "source": [
    "class Transformer_embedder(nn.Module):\n",
    "    def __init__(self, feat_extractor_name: str = ''):\n",
    "        \"\"\"Transformer Embedding model\n",
    "\n",
    "        Args:\n",
    "            feat_extractor_name (str, optional): Name of the feature extracator from HF hub or torch Hub.\n",
    "        \"\"\"        \n",
    "        super(Transformer_embedder, self).__init__()\n",
    "        \n",
    "\n",
    "        self.device = torch.device(\"cuda\" if torch.cuda.is_available() else \"cpu\")\n",
    "        self.feat_extractor_name = feat_extractor_name\n",
    "\n",
    "        if 'dpr' in feat_extractor_name.lower():\n",
    "            feat_extractor = DPRContextEncoder.from_pretrained(feat_extractor_name)\n",
    "        else:\n",
    "            feat_extractor = AutoModel.from_pretrained(feat_extractor_name)\n",
    "            \n",
    "        self.tokenizer = AutoTokenizer.from_pretrained(feat_extractor_name)\n",
    "\n",
    "        \n",
    "        self.normalize = True\n",
    "        self.feat_extractor = feat_extractor\n",
    "        self.embeding_shape = self.get_extractor_output_shape() \n",
    "                            \n",
    "\n",
    "    def get_extractor_output_shape(self):\n",
    "        last_layer = list(self.feat_extractor.named_children())[-1]\n",
    "\n",
    "        if hasattr( list(last_layer[1].modules())[1] , 'out_features'):\n",
    "            shape = list(last_layer[1].modules())[1].out_features\n",
    "        else:\n",
    "            shape = self.feat_extractor.config.hidden_size\n",
    "\n",
    "        return shape\n",
    "    \n",
    "    def pool(self, embedding:Tensor, attention_mask:Tensor, pool_type:str = 'mean'):\n",
    "        #TODO implement this function\n",
    "        ...\n",
    "\n",
    "\n",
    "    def __call__(self, input_ids:Tensor, attention_mask:Tensor, labels: Tensor = None, **kwargs):\n",
    "\n",
    "        #TODO implement this function\n",
    "        ...\n",
    "    \n"
   ]
  },
  {
   "cell_type": "code",
   "execution_count": 9,
   "metadata": {},
   "outputs": [
    {
     "data": {
      "application/vnd.jupyter.widget-view+json": {
       "model_id": "74917df944ee4db5a6e61f87d80a0278",
       "version_major": 2,
       "version_minor": 0
      },
      "text/plain": [
       "model.safetensors.index.json:   0%|          | 0.00/23.3k [00:00<?, ?B/s]"
      ]
     },
     "metadata": {},
     "output_type": "display_data"
    },
    {
     "data": {
      "application/vnd.jupyter.widget-view+json": {
       "model_id": "072d3b9cec264c55ad31a5041057da67",
       "version_major": 2,
       "version_minor": 0
      },
      "text/plain": [
       "Downloading shards:   0%|          | 0/2 [00:00<?, ?it/s]"
      ]
     },
     "metadata": {},
     "output_type": "display_data"
    },
    {
     "data": {
      "application/vnd.jupyter.widget-view+json": {
       "model_id": "98d50f019dd243ce96fb79d87966bdee",
       "version_major": 2,
       "version_minor": 0
      },
      "text/plain": [
       "model-00001-of-00002.safetensors:   0%|          | 0.00/9.94G [00:00<?, ?B/s]"
      ]
     },
     "metadata": {},
     "output_type": "display_data"
    },
    {
     "data": {
      "application/vnd.jupyter.widget-view+json": {
       "model_id": "8f2a9a73e0a94d72b32a188a871b157e",
       "version_major": 2,
       "version_minor": 0
      },
      "text/plain": [
       "model-00002-of-00002.safetensors:   0%|          | 0.00/4.28G [00:00<?, ?B/s]"
      ]
     },
     "metadata": {},
     "output_type": "display_data"
    },
    {
     "data": {
      "application/vnd.jupyter.widget-view+json": {
       "model_id": "22083f34994041018fcff5e03fd8e523",
       "version_major": 2,
       "version_minor": 0
      },
      "text/plain": [
       "Loading checkpoint shards:   0%|          | 0/2 [00:00<?, ?it/s]"
      ]
     },
     "metadata": {},
     "output_type": "display_data"
    }
   ],
   "source": [
    "model_ckpt = \"sentence-transformers/multi-qa-mpnet-base-dot-v1\"\n",
    "\n",
    "#The following is a bigger model and might require slight modification in the code\n",
    "# follow this link for more details: https://huggingface.co/intfloat/e5-mistral-7b-instruct\n",
    "# model_ckpt = \"intfloat/e5-mistral-7b-instruct\"\n",
    "\n",
    "device = torch.device(\"cuda\" if torch.cuda.is_available() else \"cpu\")\n",
    "embedder = Transformer_embedder(model_ckpt)\n",
    "embedder = embedder.to(device)\n",
    "\n",
    "def get_embeddings(text_list):\n",
    "    encoded_input = embedder.tokenizer(\n",
    "        text_list, padding=True, truncation=True, return_tensors=\"pt\"\n",
    "    )\n",
    "    embedder.eval()\n",
    "    with torch.inference_mode():\n",
    "        encoded_input = {k: v.to(device) for k, v in encoded_input.items()}\n",
    "        model_output = embedder(**encoded_input)\n",
    "    return model_output\n",
    "\n",
    "#the reason to save as numpy is for further FAISS indexing\n",
    "embeddings_dataset = movie_dataset.map(\n",
    "    lambda x: {\"embeddings\": get_embeddings(x[\"text\"]).cpu().detach().numpy()[0]}\n",
    ")"
   ]
  },
  {
   "cell_type": "code",
   "execution_count": 13,
   "metadata": {},
   "outputs": [],
   "source": [
    "#make embeddings numpy array\n",
    "embeddings_dataset.set_format(type=\"numpy\", columns=[\"embeddings\", \"text\", \"Movie Name\", \"Genre\", \"Plot\", \"Directors\", \"Votes\", \"Rating\", \"Metascore\"])"
   ]
  },
  {
   "cell_type": "code",
   "execution_count": 14,
   "metadata": {},
   "outputs": [
    {
     "data": {
      "text/plain": [
       "(768,)"
      ]
     },
     "execution_count": 14,
     "metadata": {},
     "output_type": "execute_result"
    }
   ],
   "source": [
    "embeddings_dataset[1][\"embeddings\"].shape"
   ]
  },
  {
   "cell_type": "code",
   "execution_count": 15,
   "metadata": {},
   "outputs": [
    {
     "data": {
      "application/vnd.jupyter.widget-view+json": {
       "model_id": "712d9cd315bc44beb6e00f87158c40ca",
       "version_major": 2,
       "version_minor": 0
      },
      "text/plain": [
       "  0%|          | 0/10 [00:00<?, ?it/s]"
      ]
     },
     "metadata": {},
     "output_type": "display_data"
    },
    {
     "data": {
      "text/plain": [
       "Dataset({\n",
       "    features: ['ID', 'Movie Name', 'Rating', 'Runtime', 'Genre', 'Metascore', 'Plot', 'Directors', 'Stars', 'Votes', 'Gross', 'Link', 'text', 'embeddings'],\n",
       "    num_rows: 9999\n",
       "})"
      ]
     },
     "execution_count": 15,
     "metadata": {},
     "output_type": "execute_result"
    }
   ],
   "source": [
    "embeddings_dataset.add_faiss_index(column=\"embeddings\")"
   ]
  },
  {
   "cell_type": "code",
   "execution_count": 16,
   "metadata": {},
   "outputs": [
    {
     "data": {
      "text/plain": [
       "(768,)"
      ]
     },
     "execution_count": 16,
     "metadata": {},
     "output_type": "execute_result"
    }
   ],
   "source": [
    "question = \"Batman\"\n",
    "question_embedding = get_embeddings([question]).cpu().detach().numpy()[0]\n",
    "question_embedding.shape"
   ]
  },
  {
   "cell_type": "code",
   "execution_count": 17,
   "metadata": {},
   "outputs": [],
   "source": [
    "scores, samples = embeddings_dataset.get_nearest_examples(\n",
    "    \"embeddings\", question_embedding, k=5\n",
    ")\n",
    "\n",
    "#save only the embeddings\n",
    "embeddings = embeddings_dataset[\"embeddings\"]\n",
    "np.save(\"imdb_top_10k_embeddings.npy\", embeddings)\n",
    "\n",
    "#save the dataset\n",
    "embeddings_dataset.save_to_disk(\"imdb_top_10k_embeddings_dataset\")"
   ]
  },
  {
   "cell_type": "code",
   "execution_count": 18,
   "metadata": {},
   "outputs": [],
   "source": [
    "samples = {k: v for k, v in samples.items() if k != \"embeddings\"}"
   ]
  },
  {
   "cell_type": "code",
   "execution_count": 19,
   "metadata": {},
   "outputs": [],
   "source": [
    "samples_df = pd.DataFrame.from_dict(samples)\n",
    "samples_df[\"scores\"] = scores\n",
    "samples_df.sort_values(\"scores\", ascending=False, inplace=True)\n"
   ]
  },
  {
   "cell_type": "code",
   "execution_count": 20,
   "metadata": {},
   "outputs": [
    {
     "name": "stdout",
     "output_type": "stream",
     "text": [
      "Series Title: Batman: The Movie\n",
      "Overview: The Dynamic Duo faces four supervillains who plan to hold the world for ransom with the help of a secret invention that instantly dehydrates people.\n",
      "Genre: Action, Adventure, Comedy\n",
      "Scores: 0.782235860824585\n",
      "Votes: 34572\n",
      "Rating: 6.5\n",
      "Metascore: 71.0\n",
      "Directors: ['Leslie H. Martinson', 'Adam West', 'Burt Ward', 'Lee Meriwether', 'Cesar Romero']\n",
      "==================================================\n",
      "\n",
      "Series Title: Batman Returns\n",
      "Overview: While Batman deals with a deformed man calling himself the Penguin wreaking havoc across Gotham with the help of a cruel businessman, a female employee of the latter becomes the Catwoman with her own vendetta.\n",
      "Genre: Action, Crime, Fantasy\n",
      "Scores: 0.7648836374282837\n",
      "Votes: 314554\n",
      "Rating: 7.099999904632568\n",
      "Metascore: 68.0\n",
      "Directors: ['Tim Burton', 'Michael Keaton', 'Danny DeVito', 'Michelle Pfeiffer', 'Christopher Walken']\n",
      "==================================================\n",
      "\n",
      "Series Title: Batman: Gotham by Gaslight\n",
      "Overview: In an alternative Victorian Age Gotham City, Batman begins his war on crime while he investigates a new series of murders by Jack the Ripper.\n",
      "Genre: Animation, Action, Adventure\n",
      "Scores: 0.7422126531600952\n",
      "Votes: 17979\n",
      "Rating: 6.699999809265137\n",
      "Metascore: nan\n",
      "Directors: ['Sam Liu', 'Bruce Greenwood', 'Jennifer Carpenter', 'Chris Cox', 'John DiMaggio']\n",
      "==================================================\n",
      "\n",
      "Series Title: Batman Begins\n",
      "Overview: After witnessing his parents' death, Bruce learns the art of fighting to confront injustice. When he returns to Gotham as Batman, he must stop a secret society that intends to destroy the city.\n",
      "Genre: Action, Crime, Drama\n",
      "Scores: 0.7314188480377197\n",
      "Votes: 1506388\n",
      "Rating: 8.199999809265137\n",
      "Metascore: 70.0\n",
      "Directors: ['Christopher Nolan', 'Christian Bale', 'Michael Caine', 'Ken Watanabe', 'Liam Neeson']\n",
      "==================================================\n",
      "\n",
      "Series Title: Batman\n",
      "Overview: The Dark Knight of Gotham City begins his war on crime with his first major enemy being Jack Napier, a criminal who becomes the clownishly homicidal Joker.\n",
      "Genre: Action, Adventure\n",
      "Scores: 0.7242900729179382\n",
      "Votes: 388507\n",
      "Rating: 7.5\n",
      "Metascore: 69.0\n",
      "Directors: ['Tim Burton', 'Michael Keaton', 'Jack Nicholson', 'Kim Basinger', 'Robert Wuhl']\n",
      "==================================================\n",
      "\n"
     ]
    }
   ],
   "source": [
    "for _, row in samples_df.iterrows():\n",
    "    print(f\"Series Title: {row['Movie Name']}\")\n",
    "    print(f\"Overview: {row['Plot']}\")\n",
    "    print(f\"Genre: {row['Genre']}\")\n",
    "    print(f\"Scores: {row['scores']}\")\n",
    "    print(f\"Votes: {row['Votes']}\")\n",
    "    print(f\"Rating: {row['Rating']}\")\n",
    "    print(f\"Metascore: {row['Metascore']}\")\n",
    "    print(f\"Directors: {row['Directors']}\")\n",
    "    print(\"=\" * 50)\n",
    "    print()"
   ]
  },
  {
   "cell_type": "code",
   "execution_count": null,
   "metadata": {},
   "outputs": [],
   "source": []
  }
 ],
 "metadata": {
  "kernelspec": {
   "display_name": "Python 3",
   "language": "python",
   "name": "python3"
  },
  "language_info": {
   "codemirror_mode": {
    "name": "ipython",
    "version": 3
   },
   "file_extension": ".py",
   "mimetype": "text/x-python",
   "name": "python",
   "nbconvert_exporter": "python",
   "pygments_lexer": "ipython3",
   "version": "3.11.5"
  }
 },
 "nbformat": 4,
 "nbformat_minor": 2
}
